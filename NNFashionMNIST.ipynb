{
  "nbformat": 4,
  "nbformat_minor": 0,
  "metadata": {
    "colab": {
      "name": "Assignment5NNFashionMNIST.ipynb",
      "provenance": [],
      "collapsed_sections": []
    },
    "kernelspec": {
      "name": "python3",
      "display_name": "Python 3"
    },
    "accelerator": "GPU",
    "widgets": {
      "application/vnd.jupyter.widget-state+json": {
        "2ffb56ed343f49c49c29aa62dc6cd91f": {
          "model_module": "@jupyter-widgets/controls",
          "model_name": "HBoxModel",
          "state": {
            "_view_name": "HBoxView",
            "_dom_classes": [],
            "_model_name": "HBoxModel",
            "_view_module": "@jupyter-widgets/controls",
            "_model_module_version": "1.5.0",
            "_view_count": null,
            "_view_module_version": "1.5.0",
            "box_style": "",
            "layout": "IPY_MODEL_b361d64e850b487bbc367ce29be8f7f6",
            "_model_module": "@jupyter-widgets/controls",
            "children": [
              "IPY_MODEL_2f3318e596ca43f9be48aac54b57fe8b",
              "IPY_MODEL_3d8925745fdc410d8167fc7105aab1e9"
            ]
          }
        },
        "b361d64e850b487bbc367ce29be8f7f6": {
          "model_module": "@jupyter-widgets/base",
          "model_name": "LayoutModel",
          "state": {
            "_view_name": "LayoutView",
            "grid_template_rows": null,
            "right": null,
            "justify_content": null,
            "_view_module": "@jupyter-widgets/base",
            "overflow": null,
            "_model_module_version": "1.2.0",
            "_view_count": null,
            "flex_flow": null,
            "width": null,
            "min_width": null,
            "border": null,
            "align_items": null,
            "bottom": null,
            "_model_module": "@jupyter-widgets/base",
            "top": null,
            "grid_column": null,
            "overflow_y": null,
            "overflow_x": null,
            "grid_auto_flow": null,
            "grid_area": null,
            "grid_template_columns": null,
            "flex": null,
            "_model_name": "LayoutModel",
            "justify_items": null,
            "grid_row": null,
            "max_height": null,
            "align_content": null,
            "visibility": null,
            "align_self": null,
            "height": null,
            "min_height": null,
            "padding": null,
            "grid_auto_rows": null,
            "grid_gap": null,
            "max_width": null,
            "order": null,
            "_view_module_version": "1.2.0",
            "grid_template_areas": null,
            "object_position": null,
            "object_fit": null,
            "grid_auto_columns": null,
            "margin": null,
            "display": null,
            "left": null
          }
        },
        "2f3318e596ca43f9be48aac54b57fe8b": {
          "model_module": "@jupyter-widgets/controls",
          "model_name": "FloatProgressModel",
          "state": {
            "_view_name": "ProgressView",
            "style": "IPY_MODEL_0ebf7e7b7f2a48a6a5bd59ad882c3449",
            "_dom_classes": [],
            "description": "",
            "_model_name": "FloatProgressModel",
            "bar_style": "info",
            "max": 1,
            "_view_module": "@jupyter-widgets/controls",
            "_model_module_version": "1.5.0",
            "value": 1,
            "_view_count": null,
            "_view_module_version": "1.5.0",
            "orientation": "horizontal",
            "min": 0,
            "description_tooltip": null,
            "_model_module": "@jupyter-widgets/controls",
            "layout": "IPY_MODEL_f4a51aa27c8043379db959e36d486a16"
          }
        },
        "3d8925745fdc410d8167fc7105aab1e9": {
          "model_module": "@jupyter-widgets/controls",
          "model_name": "HTMLModel",
          "state": {
            "_view_name": "HTMLView",
            "style": "IPY_MODEL_ed374bb0377247dca2911733be91077e",
            "_dom_classes": [],
            "description": "",
            "_model_name": "HTMLModel",
            "placeholder": "​",
            "_view_module": "@jupyter-widgets/controls",
            "_model_module_version": "1.5.0",
            "value": " 26427392/? [00:19&lt;00:00, 10534234.88it/s]",
            "_view_count": null,
            "_view_module_version": "1.5.0",
            "description_tooltip": null,
            "_model_module": "@jupyter-widgets/controls",
            "layout": "IPY_MODEL_2cfabee7ee40498abc47e54e5fe6860c"
          }
        },
        "0ebf7e7b7f2a48a6a5bd59ad882c3449": {
          "model_module": "@jupyter-widgets/controls",
          "model_name": "ProgressStyleModel",
          "state": {
            "_view_name": "StyleView",
            "_model_name": "ProgressStyleModel",
            "description_width": "initial",
            "_view_module": "@jupyter-widgets/base",
            "_model_module_version": "1.5.0",
            "_view_count": null,
            "_view_module_version": "1.2.0",
            "bar_color": null,
            "_model_module": "@jupyter-widgets/controls"
          }
        },
        "f4a51aa27c8043379db959e36d486a16": {
          "model_module": "@jupyter-widgets/base",
          "model_name": "LayoutModel",
          "state": {
            "_view_name": "LayoutView",
            "grid_template_rows": null,
            "right": null,
            "justify_content": null,
            "_view_module": "@jupyter-widgets/base",
            "overflow": null,
            "_model_module_version": "1.2.0",
            "_view_count": null,
            "flex_flow": null,
            "width": null,
            "min_width": null,
            "border": null,
            "align_items": null,
            "bottom": null,
            "_model_module": "@jupyter-widgets/base",
            "top": null,
            "grid_column": null,
            "overflow_y": null,
            "overflow_x": null,
            "grid_auto_flow": null,
            "grid_area": null,
            "grid_template_columns": null,
            "flex": null,
            "_model_name": "LayoutModel",
            "justify_items": null,
            "grid_row": null,
            "max_height": null,
            "align_content": null,
            "visibility": null,
            "align_self": null,
            "height": null,
            "min_height": null,
            "padding": null,
            "grid_auto_rows": null,
            "grid_gap": null,
            "max_width": null,
            "order": null,
            "_view_module_version": "1.2.0",
            "grid_template_areas": null,
            "object_position": null,
            "object_fit": null,
            "grid_auto_columns": null,
            "margin": null,
            "display": null,
            "left": null
          }
        },
        "ed374bb0377247dca2911733be91077e": {
          "model_module": "@jupyter-widgets/controls",
          "model_name": "DescriptionStyleModel",
          "state": {
            "_view_name": "StyleView",
            "_model_name": "DescriptionStyleModel",
            "description_width": "",
            "_view_module": "@jupyter-widgets/base",
            "_model_module_version": "1.5.0",
            "_view_count": null,
            "_view_module_version": "1.2.0",
            "_model_module": "@jupyter-widgets/controls"
          }
        },
        "2cfabee7ee40498abc47e54e5fe6860c": {
          "model_module": "@jupyter-widgets/base",
          "model_name": "LayoutModel",
          "state": {
            "_view_name": "LayoutView",
            "grid_template_rows": null,
            "right": null,
            "justify_content": null,
            "_view_module": "@jupyter-widgets/base",
            "overflow": null,
            "_model_module_version": "1.2.0",
            "_view_count": null,
            "flex_flow": null,
            "width": null,
            "min_width": null,
            "border": null,
            "align_items": null,
            "bottom": null,
            "_model_module": "@jupyter-widgets/base",
            "top": null,
            "grid_column": null,
            "overflow_y": null,
            "overflow_x": null,
            "grid_auto_flow": null,
            "grid_area": null,
            "grid_template_columns": null,
            "flex": null,
            "_model_name": "LayoutModel",
            "justify_items": null,
            "grid_row": null,
            "max_height": null,
            "align_content": null,
            "visibility": null,
            "align_self": null,
            "height": null,
            "min_height": null,
            "padding": null,
            "grid_auto_rows": null,
            "grid_gap": null,
            "max_width": null,
            "order": null,
            "_view_module_version": "1.2.0",
            "grid_template_areas": null,
            "object_position": null,
            "object_fit": null,
            "grid_auto_columns": null,
            "margin": null,
            "display": null,
            "left": null
          }
        },
        "8e2dbd2e24d640038ae564cd2315793d": {
          "model_module": "@jupyter-widgets/controls",
          "model_name": "HBoxModel",
          "state": {
            "_view_name": "HBoxView",
            "_dom_classes": [],
            "_model_name": "HBoxModel",
            "_view_module": "@jupyter-widgets/controls",
            "_model_module_version": "1.5.0",
            "_view_count": null,
            "_view_module_version": "1.5.0",
            "box_style": "",
            "layout": "IPY_MODEL_57e06c8206ef4eb2bc0c2a6d18025e3e",
            "_model_module": "@jupyter-widgets/controls",
            "children": [
              "IPY_MODEL_83d3cf7f4a8f4dcebd1b08875cebc878",
              "IPY_MODEL_ecbe0c0f1b674cf8bed5de3c7a3aa992"
            ]
          }
        },
        "57e06c8206ef4eb2bc0c2a6d18025e3e": {
          "model_module": "@jupyter-widgets/base",
          "model_name": "LayoutModel",
          "state": {
            "_view_name": "LayoutView",
            "grid_template_rows": null,
            "right": null,
            "justify_content": null,
            "_view_module": "@jupyter-widgets/base",
            "overflow": null,
            "_model_module_version": "1.2.0",
            "_view_count": null,
            "flex_flow": null,
            "width": null,
            "min_width": null,
            "border": null,
            "align_items": null,
            "bottom": null,
            "_model_module": "@jupyter-widgets/base",
            "top": null,
            "grid_column": null,
            "overflow_y": null,
            "overflow_x": null,
            "grid_auto_flow": null,
            "grid_area": null,
            "grid_template_columns": null,
            "flex": null,
            "_model_name": "LayoutModel",
            "justify_items": null,
            "grid_row": null,
            "max_height": null,
            "align_content": null,
            "visibility": null,
            "align_self": null,
            "height": null,
            "min_height": null,
            "padding": null,
            "grid_auto_rows": null,
            "grid_gap": null,
            "max_width": null,
            "order": null,
            "_view_module_version": "1.2.0",
            "grid_template_areas": null,
            "object_position": null,
            "object_fit": null,
            "grid_auto_columns": null,
            "margin": null,
            "display": null,
            "left": null
          }
        },
        "83d3cf7f4a8f4dcebd1b08875cebc878": {
          "model_module": "@jupyter-widgets/controls",
          "model_name": "FloatProgressModel",
          "state": {
            "_view_name": "ProgressView",
            "style": "IPY_MODEL_4fe7e3a0dc614f9d91c8b5e8217c3c8f",
            "_dom_classes": [],
            "description": "",
            "_model_name": "FloatProgressModel",
            "bar_style": "success",
            "max": 1,
            "_view_module": "@jupyter-widgets/controls",
            "_model_module_version": "1.5.0",
            "value": 1,
            "_view_count": null,
            "_view_module_version": "1.5.0",
            "orientation": "horizontal",
            "min": 0,
            "description_tooltip": null,
            "_model_module": "@jupyter-widgets/controls",
            "layout": "IPY_MODEL_968f51b0b5a44c9bbcff43b18ec92fd9"
          }
        },
        "ecbe0c0f1b674cf8bed5de3c7a3aa992": {
          "model_module": "@jupyter-widgets/controls",
          "model_name": "HTMLModel",
          "state": {
            "_view_name": "HTMLView",
            "style": "IPY_MODEL_f9c66f3ffeee45738afdc067f7d5eae2",
            "_dom_classes": [],
            "description": "",
            "_model_name": "HTMLModel",
            "placeholder": "​",
            "_view_module": "@jupyter-widgets/controls",
            "_model_module_version": "1.5.0",
            "value": " 32768/? [00:04&lt;00:00, 7671.94it/s]",
            "_view_count": null,
            "_view_module_version": "1.5.0",
            "description_tooltip": null,
            "_model_module": "@jupyter-widgets/controls",
            "layout": "IPY_MODEL_eda565895bf54dcdaa447c1f78403a98"
          }
        },
        "4fe7e3a0dc614f9d91c8b5e8217c3c8f": {
          "model_module": "@jupyter-widgets/controls",
          "model_name": "ProgressStyleModel",
          "state": {
            "_view_name": "StyleView",
            "_model_name": "ProgressStyleModel",
            "description_width": "initial",
            "_view_module": "@jupyter-widgets/base",
            "_model_module_version": "1.5.0",
            "_view_count": null,
            "_view_module_version": "1.2.0",
            "bar_color": null,
            "_model_module": "@jupyter-widgets/controls"
          }
        },
        "968f51b0b5a44c9bbcff43b18ec92fd9": {
          "model_module": "@jupyter-widgets/base",
          "model_name": "LayoutModel",
          "state": {
            "_view_name": "LayoutView",
            "grid_template_rows": null,
            "right": null,
            "justify_content": null,
            "_view_module": "@jupyter-widgets/base",
            "overflow": null,
            "_model_module_version": "1.2.0",
            "_view_count": null,
            "flex_flow": null,
            "width": null,
            "min_width": null,
            "border": null,
            "align_items": null,
            "bottom": null,
            "_model_module": "@jupyter-widgets/base",
            "top": null,
            "grid_column": null,
            "overflow_y": null,
            "overflow_x": null,
            "grid_auto_flow": null,
            "grid_area": null,
            "grid_template_columns": null,
            "flex": null,
            "_model_name": "LayoutModel",
            "justify_items": null,
            "grid_row": null,
            "max_height": null,
            "align_content": null,
            "visibility": null,
            "align_self": null,
            "height": null,
            "min_height": null,
            "padding": null,
            "grid_auto_rows": null,
            "grid_gap": null,
            "max_width": null,
            "order": null,
            "_view_module_version": "1.2.0",
            "grid_template_areas": null,
            "object_position": null,
            "object_fit": null,
            "grid_auto_columns": null,
            "margin": null,
            "display": null,
            "left": null
          }
        },
        "f9c66f3ffeee45738afdc067f7d5eae2": {
          "model_module": "@jupyter-widgets/controls",
          "model_name": "DescriptionStyleModel",
          "state": {
            "_view_name": "StyleView",
            "_model_name": "DescriptionStyleModel",
            "description_width": "",
            "_view_module": "@jupyter-widgets/base",
            "_model_module_version": "1.5.0",
            "_view_count": null,
            "_view_module_version": "1.2.0",
            "_model_module": "@jupyter-widgets/controls"
          }
        },
        "eda565895bf54dcdaa447c1f78403a98": {
          "model_module": "@jupyter-widgets/base",
          "model_name": "LayoutModel",
          "state": {
            "_view_name": "LayoutView",
            "grid_template_rows": null,
            "right": null,
            "justify_content": null,
            "_view_module": "@jupyter-widgets/base",
            "overflow": null,
            "_model_module_version": "1.2.0",
            "_view_count": null,
            "flex_flow": null,
            "width": null,
            "min_width": null,
            "border": null,
            "align_items": null,
            "bottom": null,
            "_model_module": "@jupyter-widgets/base",
            "top": null,
            "grid_column": null,
            "overflow_y": null,
            "overflow_x": null,
            "grid_auto_flow": null,
            "grid_area": null,
            "grid_template_columns": null,
            "flex": null,
            "_model_name": "LayoutModel",
            "justify_items": null,
            "grid_row": null,
            "max_height": null,
            "align_content": null,
            "visibility": null,
            "align_self": null,
            "height": null,
            "min_height": null,
            "padding": null,
            "grid_auto_rows": null,
            "grid_gap": null,
            "max_width": null,
            "order": null,
            "_view_module_version": "1.2.0",
            "grid_template_areas": null,
            "object_position": null,
            "object_fit": null,
            "grid_auto_columns": null,
            "margin": null,
            "display": null,
            "left": null
          }
        },
        "d6ac2e8692e14659947c55fd0227e4c8": {
          "model_module": "@jupyter-widgets/controls",
          "model_name": "HBoxModel",
          "state": {
            "_view_name": "HBoxView",
            "_dom_classes": [],
            "_model_name": "HBoxModel",
            "_view_module": "@jupyter-widgets/controls",
            "_model_module_version": "1.5.0",
            "_view_count": null,
            "_view_module_version": "1.5.0",
            "box_style": "",
            "layout": "IPY_MODEL_eb53109fece346e99c79d476efcc5c7e",
            "_model_module": "@jupyter-widgets/controls",
            "children": [
              "IPY_MODEL_d3a618ff40d44c4ab9bac1e4a43b7c43",
              "IPY_MODEL_3e2c6df8f223490d8a9cef92db4fb390"
            ]
          }
        },
        "eb53109fece346e99c79d476efcc5c7e": {
          "model_module": "@jupyter-widgets/base",
          "model_name": "LayoutModel",
          "state": {
            "_view_name": "LayoutView",
            "grid_template_rows": null,
            "right": null,
            "justify_content": null,
            "_view_module": "@jupyter-widgets/base",
            "overflow": null,
            "_model_module_version": "1.2.0",
            "_view_count": null,
            "flex_flow": null,
            "width": null,
            "min_width": null,
            "border": null,
            "align_items": null,
            "bottom": null,
            "_model_module": "@jupyter-widgets/base",
            "top": null,
            "grid_column": null,
            "overflow_y": null,
            "overflow_x": null,
            "grid_auto_flow": null,
            "grid_area": null,
            "grid_template_columns": null,
            "flex": null,
            "_model_name": "LayoutModel",
            "justify_items": null,
            "grid_row": null,
            "max_height": null,
            "align_content": null,
            "visibility": null,
            "align_self": null,
            "height": null,
            "min_height": null,
            "padding": null,
            "grid_auto_rows": null,
            "grid_gap": null,
            "max_width": null,
            "order": null,
            "_view_module_version": "1.2.0",
            "grid_template_areas": null,
            "object_position": null,
            "object_fit": null,
            "grid_auto_columns": null,
            "margin": null,
            "display": null,
            "left": null
          }
        },
        "d3a618ff40d44c4ab9bac1e4a43b7c43": {
          "model_module": "@jupyter-widgets/controls",
          "model_name": "FloatProgressModel",
          "state": {
            "_view_name": "ProgressView",
            "style": "IPY_MODEL_b1c13e47b8984695a3bd847d39b34790",
            "_dom_classes": [],
            "description": "",
            "_model_name": "FloatProgressModel",
            "bar_style": "success",
            "max": 1,
            "_view_module": "@jupyter-widgets/controls",
            "_model_module_version": "1.5.0",
            "value": 1,
            "_view_count": null,
            "_view_module_version": "1.5.0",
            "orientation": "horizontal",
            "min": 0,
            "description_tooltip": null,
            "_model_module": "@jupyter-widgets/controls",
            "layout": "IPY_MODEL_893407932b004e94b28edf25eb184ee7"
          }
        },
        "3e2c6df8f223490d8a9cef92db4fb390": {
          "model_module": "@jupyter-widgets/controls",
          "model_name": "HTMLModel",
          "state": {
            "_view_name": "HTMLView",
            "style": "IPY_MODEL_66eb1d3c51484765ab2ec85bff4a4a31",
            "_dom_classes": [],
            "description": "",
            "_model_name": "HTMLModel",
            "placeholder": "​",
            "_view_module": "@jupyter-widgets/controls",
            "_model_module_version": "1.5.0",
            "value": " 4423680/? [00:03&lt;00:00, 1294411.40it/s]",
            "_view_count": null,
            "_view_module_version": "1.5.0",
            "description_tooltip": null,
            "_model_module": "@jupyter-widgets/controls",
            "layout": "IPY_MODEL_4b0317f171fd4cfebd2444657cacaed1"
          }
        },
        "b1c13e47b8984695a3bd847d39b34790": {
          "model_module": "@jupyter-widgets/controls",
          "model_name": "ProgressStyleModel",
          "state": {
            "_view_name": "StyleView",
            "_model_name": "ProgressStyleModel",
            "description_width": "initial",
            "_view_module": "@jupyter-widgets/base",
            "_model_module_version": "1.5.0",
            "_view_count": null,
            "_view_module_version": "1.2.0",
            "bar_color": null,
            "_model_module": "@jupyter-widgets/controls"
          }
        },
        "893407932b004e94b28edf25eb184ee7": {
          "model_module": "@jupyter-widgets/base",
          "model_name": "LayoutModel",
          "state": {
            "_view_name": "LayoutView",
            "grid_template_rows": null,
            "right": null,
            "justify_content": null,
            "_view_module": "@jupyter-widgets/base",
            "overflow": null,
            "_model_module_version": "1.2.0",
            "_view_count": null,
            "flex_flow": null,
            "width": null,
            "min_width": null,
            "border": null,
            "align_items": null,
            "bottom": null,
            "_model_module": "@jupyter-widgets/base",
            "top": null,
            "grid_column": null,
            "overflow_y": null,
            "overflow_x": null,
            "grid_auto_flow": null,
            "grid_area": null,
            "grid_template_columns": null,
            "flex": null,
            "_model_name": "LayoutModel",
            "justify_items": null,
            "grid_row": null,
            "max_height": null,
            "align_content": null,
            "visibility": null,
            "align_self": null,
            "height": null,
            "min_height": null,
            "padding": null,
            "grid_auto_rows": null,
            "grid_gap": null,
            "max_width": null,
            "order": null,
            "_view_module_version": "1.2.0",
            "grid_template_areas": null,
            "object_position": null,
            "object_fit": null,
            "grid_auto_columns": null,
            "margin": null,
            "display": null,
            "left": null
          }
        },
        "66eb1d3c51484765ab2ec85bff4a4a31": {
          "model_module": "@jupyter-widgets/controls",
          "model_name": "DescriptionStyleModel",
          "state": {
            "_view_name": "StyleView",
            "_model_name": "DescriptionStyleModel",
            "description_width": "",
            "_view_module": "@jupyter-widgets/base",
            "_model_module_version": "1.5.0",
            "_view_count": null,
            "_view_module_version": "1.2.0",
            "_model_module": "@jupyter-widgets/controls"
          }
        },
        "4b0317f171fd4cfebd2444657cacaed1": {
          "model_module": "@jupyter-widgets/base",
          "model_name": "LayoutModel",
          "state": {
            "_view_name": "LayoutView",
            "grid_template_rows": null,
            "right": null,
            "justify_content": null,
            "_view_module": "@jupyter-widgets/base",
            "overflow": null,
            "_model_module_version": "1.2.0",
            "_view_count": null,
            "flex_flow": null,
            "width": null,
            "min_width": null,
            "border": null,
            "align_items": null,
            "bottom": null,
            "_model_module": "@jupyter-widgets/base",
            "top": null,
            "grid_column": null,
            "overflow_y": null,
            "overflow_x": null,
            "grid_auto_flow": null,
            "grid_area": null,
            "grid_template_columns": null,
            "flex": null,
            "_model_name": "LayoutModel",
            "justify_items": null,
            "grid_row": null,
            "max_height": null,
            "align_content": null,
            "visibility": null,
            "align_self": null,
            "height": null,
            "min_height": null,
            "padding": null,
            "grid_auto_rows": null,
            "grid_gap": null,
            "max_width": null,
            "order": null,
            "_view_module_version": "1.2.0",
            "grid_template_areas": null,
            "object_position": null,
            "object_fit": null,
            "grid_auto_columns": null,
            "margin": null,
            "display": null,
            "left": null
          }
        },
        "682c1bde5c994cbcb42b9fddcbc9c5d9": {
          "model_module": "@jupyter-widgets/controls",
          "model_name": "HBoxModel",
          "state": {
            "_view_name": "HBoxView",
            "_dom_classes": [],
            "_model_name": "HBoxModel",
            "_view_module": "@jupyter-widgets/controls",
            "_model_module_version": "1.5.0",
            "_view_count": null,
            "_view_module_version": "1.5.0",
            "box_style": "",
            "layout": "IPY_MODEL_495750fddf994b9ab4bbbb0230b4a8ac",
            "_model_module": "@jupyter-widgets/controls",
            "children": [
              "IPY_MODEL_67909131e32f4d6f95fcfcc8974caaba",
              "IPY_MODEL_57b7c2e704a1418c8a1f3bac94d9d5cc"
            ]
          }
        },
        "495750fddf994b9ab4bbbb0230b4a8ac": {
          "model_module": "@jupyter-widgets/base",
          "model_name": "LayoutModel",
          "state": {
            "_view_name": "LayoutView",
            "grid_template_rows": null,
            "right": null,
            "justify_content": null,
            "_view_module": "@jupyter-widgets/base",
            "overflow": null,
            "_model_module_version": "1.2.0",
            "_view_count": null,
            "flex_flow": null,
            "width": null,
            "min_width": null,
            "border": null,
            "align_items": null,
            "bottom": null,
            "_model_module": "@jupyter-widgets/base",
            "top": null,
            "grid_column": null,
            "overflow_y": null,
            "overflow_x": null,
            "grid_auto_flow": null,
            "grid_area": null,
            "grid_template_columns": null,
            "flex": null,
            "_model_name": "LayoutModel",
            "justify_items": null,
            "grid_row": null,
            "max_height": null,
            "align_content": null,
            "visibility": null,
            "align_self": null,
            "height": null,
            "min_height": null,
            "padding": null,
            "grid_auto_rows": null,
            "grid_gap": null,
            "max_width": null,
            "order": null,
            "_view_module_version": "1.2.0",
            "grid_template_areas": null,
            "object_position": null,
            "object_fit": null,
            "grid_auto_columns": null,
            "margin": null,
            "display": null,
            "left": null
          }
        },
        "67909131e32f4d6f95fcfcc8974caaba": {
          "model_module": "@jupyter-widgets/controls",
          "model_name": "FloatProgressModel",
          "state": {
            "_view_name": "ProgressView",
            "style": "IPY_MODEL_6144a1341d1348208a6421b2a2fc7f82",
            "_dom_classes": [],
            "description": "",
            "_model_name": "FloatProgressModel",
            "bar_style": "success",
            "max": 1,
            "_view_module": "@jupyter-widgets/controls",
            "_model_module_version": "1.5.0",
            "value": 1,
            "_view_count": null,
            "_view_module_version": "1.5.0",
            "orientation": "horizontal",
            "min": 0,
            "description_tooltip": null,
            "_model_module": "@jupyter-widgets/controls",
            "layout": "IPY_MODEL_a31fb0d1862b49eaa5050ec3c1a87fb6"
          }
        },
        "57b7c2e704a1418c8a1f3bac94d9d5cc": {
          "model_module": "@jupyter-widgets/controls",
          "model_name": "HTMLModel",
          "state": {
            "_view_name": "HTMLView",
            "style": "IPY_MODEL_36e6463b8f624c679ac4d9caa8083eb4",
            "_dom_classes": [],
            "description": "",
            "_model_name": "HTMLModel",
            "placeholder": "​",
            "_view_module": "@jupyter-widgets/controls",
            "_model_module_version": "1.5.0",
            "value": " 8192/? [00:00&lt;00:00, 12862.97it/s]",
            "_view_count": null,
            "_view_module_version": "1.5.0",
            "description_tooltip": null,
            "_model_module": "@jupyter-widgets/controls",
            "layout": "IPY_MODEL_dafd9db34bc7414ab7b612a8b8fa16e5"
          }
        },
        "6144a1341d1348208a6421b2a2fc7f82": {
          "model_module": "@jupyter-widgets/controls",
          "model_name": "ProgressStyleModel",
          "state": {
            "_view_name": "StyleView",
            "_model_name": "ProgressStyleModel",
            "description_width": "initial",
            "_view_module": "@jupyter-widgets/base",
            "_model_module_version": "1.5.0",
            "_view_count": null,
            "_view_module_version": "1.2.0",
            "bar_color": null,
            "_model_module": "@jupyter-widgets/controls"
          }
        },
        "a31fb0d1862b49eaa5050ec3c1a87fb6": {
          "model_module": "@jupyter-widgets/base",
          "model_name": "LayoutModel",
          "state": {
            "_view_name": "LayoutView",
            "grid_template_rows": null,
            "right": null,
            "justify_content": null,
            "_view_module": "@jupyter-widgets/base",
            "overflow": null,
            "_model_module_version": "1.2.0",
            "_view_count": null,
            "flex_flow": null,
            "width": null,
            "min_width": null,
            "border": null,
            "align_items": null,
            "bottom": null,
            "_model_module": "@jupyter-widgets/base",
            "top": null,
            "grid_column": null,
            "overflow_y": null,
            "overflow_x": null,
            "grid_auto_flow": null,
            "grid_area": null,
            "grid_template_columns": null,
            "flex": null,
            "_model_name": "LayoutModel",
            "justify_items": null,
            "grid_row": null,
            "max_height": null,
            "align_content": null,
            "visibility": null,
            "align_self": null,
            "height": null,
            "min_height": null,
            "padding": null,
            "grid_auto_rows": null,
            "grid_gap": null,
            "max_width": null,
            "order": null,
            "_view_module_version": "1.2.0",
            "grid_template_areas": null,
            "object_position": null,
            "object_fit": null,
            "grid_auto_columns": null,
            "margin": null,
            "display": null,
            "left": null
          }
        },
        "36e6463b8f624c679ac4d9caa8083eb4": {
          "model_module": "@jupyter-widgets/controls",
          "model_name": "DescriptionStyleModel",
          "state": {
            "_view_name": "StyleView",
            "_model_name": "DescriptionStyleModel",
            "description_width": "",
            "_view_module": "@jupyter-widgets/base",
            "_model_module_version": "1.5.0",
            "_view_count": null,
            "_view_module_version": "1.2.0",
            "_model_module": "@jupyter-widgets/controls"
          }
        },
        "dafd9db34bc7414ab7b612a8b8fa16e5": {
          "model_module": "@jupyter-widgets/base",
          "model_name": "LayoutModel",
          "state": {
            "_view_name": "LayoutView",
            "grid_template_rows": null,
            "right": null,
            "justify_content": null,
            "_view_module": "@jupyter-widgets/base",
            "overflow": null,
            "_model_module_version": "1.2.0",
            "_view_count": null,
            "flex_flow": null,
            "width": null,
            "min_width": null,
            "border": null,
            "align_items": null,
            "bottom": null,
            "_model_module": "@jupyter-widgets/base",
            "top": null,
            "grid_column": null,
            "overflow_y": null,
            "overflow_x": null,
            "grid_auto_flow": null,
            "grid_area": null,
            "grid_template_columns": null,
            "flex": null,
            "_model_name": "LayoutModel",
            "justify_items": null,
            "grid_row": null,
            "max_height": null,
            "align_content": null,
            "visibility": null,
            "align_self": null,
            "height": null,
            "min_height": null,
            "padding": null,
            "grid_auto_rows": null,
            "grid_gap": null,
            "max_width": null,
            "order": null,
            "_view_module_version": "1.2.0",
            "grid_template_areas": null,
            "object_position": null,
            "object_fit": null,
            "grid_auto_columns": null,
            "margin": null,
            "display": null,
            "left": null
          }
        },
        "de64bca7c5b94feba7af3d04b2aa5fed": {
          "model_module": "@jupyter-widgets/controls",
          "model_name": "HBoxModel",
          "state": {
            "_view_name": "HBoxView",
            "_dom_classes": [],
            "_model_name": "HBoxModel",
            "_view_module": "@jupyter-widgets/controls",
            "_model_module_version": "1.5.0",
            "_view_count": null,
            "_view_module_version": "1.5.0",
            "box_style": "",
            "layout": "IPY_MODEL_5bbdc88b5692421495ff33df7d32ea37",
            "_model_module": "@jupyter-widgets/controls",
            "children": [
              "IPY_MODEL_92c09f05642f4dfb81523945aa5ac7be",
              "IPY_MODEL_c42feaef2f154b6ca9b29d91aa879e54"
            ]
          }
        },
        "5bbdc88b5692421495ff33df7d32ea37": {
          "model_module": "@jupyter-widgets/base",
          "model_name": "LayoutModel",
          "state": {
            "_view_name": "LayoutView",
            "grid_template_rows": null,
            "right": null,
            "justify_content": null,
            "_view_module": "@jupyter-widgets/base",
            "overflow": null,
            "_model_module_version": "1.2.0",
            "_view_count": null,
            "flex_flow": null,
            "width": null,
            "min_width": null,
            "border": null,
            "align_items": null,
            "bottom": null,
            "_model_module": "@jupyter-widgets/base",
            "top": null,
            "grid_column": null,
            "overflow_y": null,
            "overflow_x": null,
            "grid_auto_flow": null,
            "grid_area": null,
            "grid_template_columns": null,
            "flex": null,
            "_model_name": "LayoutModel",
            "justify_items": null,
            "grid_row": null,
            "max_height": null,
            "align_content": null,
            "visibility": null,
            "align_self": null,
            "height": null,
            "min_height": null,
            "padding": null,
            "grid_auto_rows": null,
            "grid_gap": null,
            "max_width": null,
            "order": null,
            "_view_module_version": "1.2.0",
            "grid_template_areas": null,
            "object_position": null,
            "object_fit": null,
            "grid_auto_columns": null,
            "margin": null,
            "display": null,
            "left": null
          }
        },
        "92c09f05642f4dfb81523945aa5ac7be": {
          "model_module": "@jupyter-widgets/controls",
          "model_name": "FloatProgressModel",
          "state": {
            "_view_name": "ProgressView",
            "style": "IPY_MODEL_a19006f8ab2541348e551de6d6573930",
            "_dom_classes": [],
            "description": "Training: 100%",
            "_model_name": "FloatProgressModel",
            "bar_style": "success",
            "max": 100,
            "_view_module": "@jupyter-widgets/controls",
            "_model_module_version": "1.5.0",
            "value": 100,
            "_view_count": null,
            "_view_module_version": "1.5.0",
            "orientation": "horizontal",
            "min": 0,
            "description_tooltip": null,
            "_model_module": "@jupyter-widgets/controls",
            "layout": "IPY_MODEL_759340c94d2f41569b4420764b531a40"
          }
        },
        "c42feaef2f154b6ca9b29d91aa879e54": {
          "model_module": "@jupyter-widgets/controls",
          "model_name": "HTMLModel",
          "state": {
            "_view_name": "HTMLView",
            "style": "IPY_MODEL_e8df895afbf54cafaa080984671369b7",
            "_dom_classes": [],
            "description": "",
            "_model_name": "HTMLModel",
            "placeholder": "​",
            "_view_module": "@jupyter-widgets/controls",
            "_model_module_version": "1.5.0",
            "value": " 100/100 [1:00:09&lt;00:00, 36.10s/it]",
            "_view_count": null,
            "_view_module_version": "1.5.0",
            "description_tooltip": null,
            "_model_module": "@jupyter-widgets/controls",
            "layout": "IPY_MODEL_f5eae529572a4abf8aafcf83438feaf9"
          }
        },
        "a19006f8ab2541348e551de6d6573930": {
          "model_module": "@jupyter-widgets/controls",
          "model_name": "ProgressStyleModel",
          "state": {
            "_view_name": "StyleView",
            "_model_name": "ProgressStyleModel",
            "description_width": "initial",
            "_view_module": "@jupyter-widgets/base",
            "_model_module_version": "1.5.0",
            "_view_count": null,
            "_view_module_version": "1.2.0",
            "bar_color": null,
            "_model_module": "@jupyter-widgets/controls"
          }
        },
        "759340c94d2f41569b4420764b531a40": {
          "model_module": "@jupyter-widgets/base",
          "model_name": "LayoutModel",
          "state": {
            "_view_name": "LayoutView",
            "grid_template_rows": null,
            "right": null,
            "justify_content": null,
            "_view_module": "@jupyter-widgets/base",
            "overflow": null,
            "_model_module_version": "1.2.0",
            "_view_count": null,
            "flex_flow": null,
            "width": null,
            "min_width": null,
            "border": null,
            "align_items": null,
            "bottom": null,
            "_model_module": "@jupyter-widgets/base",
            "top": null,
            "grid_column": null,
            "overflow_y": null,
            "overflow_x": null,
            "grid_auto_flow": null,
            "grid_area": null,
            "grid_template_columns": null,
            "flex": null,
            "_model_name": "LayoutModel",
            "justify_items": null,
            "grid_row": null,
            "max_height": null,
            "align_content": null,
            "visibility": null,
            "align_self": null,
            "height": null,
            "min_height": null,
            "padding": null,
            "grid_auto_rows": null,
            "grid_gap": null,
            "max_width": null,
            "order": null,
            "_view_module_version": "1.2.0",
            "grid_template_areas": null,
            "object_position": null,
            "object_fit": null,
            "grid_auto_columns": null,
            "margin": null,
            "display": null,
            "left": null
          }
        },
        "e8df895afbf54cafaa080984671369b7": {
          "model_module": "@jupyter-widgets/controls",
          "model_name": "DescriptionStyleModel",
          "state": {
            "_view_name": "StyleView",
            "_model_name": "DescriptionStyleModel",
            "description_width": "",
            "_view_module": "@jupyter-widgets/base",
            "_model_module_version": "1.5.0",
            "_view_count": null,
            "_view_module_version": "1.2.0",
            "_model_module": "@jupyter-widgets/controls"
          }
        },
        "f5eae529572a4abf8aafcf83438feaf9": {
          "model_module": "@jupyter-widgets/base",
          "model_name": "LayoutModel",
          "state": {
            "_view_name": "LayoutView",
            "grid_template_rows": null,
            "right": null,
            "justify_content": null,
            "_view_module": "@jupyter-widgets/base",
            "overflow": null,
            "_model_module_version": "1.2.0",
            "_view_count": null,
            "flex_flow": null,
            "width": null,
            "min_width": null,
            "border": null,
            "align_items": null,
            "bottom": null,
            "_model_module": "@jupyter-widgets/base",
            "top": null,
            "grid_column": null,
            "overflow_y": null,
            "overflow_x": null,
            "grid_auto_flow": null,
            "grid_area": null,
            "grid_template_columns": null,
            "flex": null,
            "_model_name": "LayoutModel",
            "justify_items": null,
            "grid_row": null,
            "max_height": null,
            "align_content": null,
            "visibility": null,
            "align_self": null,
            "height": null,
            "min_height": null,
            "padding": null,
            "grid_auto_rows": null,
            "grid_gap": null,
            "max_width": null,
            "order": null,
            "_view_module_version": "1.2.0",
            "grid_template_areas": null,
            "object_position": null,
            "object_fit": null,
            "grid_auto_columns": null,
            "margin": null,
            "display": null,
            "left": null
          }
        }
      }
    }
  },
  "cells": [
    {
      "cell_type": "markdown",
      "metadata": {
        "id": "Y42zy82KQPgI",
        "colab_type": "text"
      },
      "source": [
        "**Importing Libraries**"
      ]
    },
    {
      "cell_type": "code",
      "metadata": {
        "id": "niBXHCDIN_CT",
        "colab_type": "code",
        "colab": {}
      },
      "source": [
        "import numpy as np\n",
        "import pandas as pd\n",
        "import matplotlib.pyplot as plt\n",
        "\n",
        "import torch \n",
        "import torch.nn as nn                                 # used for neuran network\n",
        "import torch.optim as optim                           #used for optimiser\n",
        "from torchvision.datasets import FashionMNIST \n",
        "from torch.utils.data import DataLoader               # used for DataLoading in batches as we are using Min Batch GD    \n",
        "import torchvision.transforms as transforms           # used preprocessing the data\n",
        "from torchvision.utils import make_grid               #\n",
        "\n",
        "import os\n",
        "from tqdm.notebook import tqdm\n",
        "import warnings\n",
        "warnings.filterwarnings('ignore')"
      ],
      "execution_count": null,
      "outputs": []
    },
    {
      "cell_type": "markdown",
      "metadata": {
        "id": "dCfjLGiUQnkT",
        "colab_type": "text"
      },
      "source": [
        "**Loading Dataset**"
      ]
    },
    {
      "cell_type": "code",
      "metadata": {
        "id": "u0yf9pkcQsNs",
        "colab_type": "code",
        "colab": {
          "base_uri": "https://localhost:8080/",
          "height": 366,
          "referenced_widgets": [
            "2ffb56ed343f49c49c29aa62dc6cd91f",
            "b361d64e850b487bbc367ce29be8f7f6",
            "2f3318e596ca43f9be48aac54b57fe8b",
            "3d8925745fdc410d8167fc7105aab1e9",
            "0ebf7e7b7f2a48a6a5bd59ad882c3449",
            "f4a51aa27c8043379db959e36d486a16",
            "ed374bb0377247dca2911733be91077e",
            "2cfabee7ee40498abc47e54e5fe6860c",
            "8e2dbd2e24d640038ae564cd2315793d",
            "57e06c8206ef4eb2bc0c2a6d18025e3e",
            "83d3cf7f4a8f4dcebd1b08875cebc878",
            "ecbe0c0f1b674cf8bed5de3c7a3aa992",
            "4fe7e3a0dc614f9d91c8b5e8217c3c8f",
            "968f51b0b5a44c9bbcff43b18ec92fd9",
            "f9c66f3ffeee45738afdc067f7d5eae2",
            "eda565895bf54dcdaa447c1f78403a98",
            "d6ac2e8692e14659947c55fd0227e4c8",
            "eb53109fece346e99c79d476efcc5c7e",
            "d3a618ff40d44c4ab9bac1e4a43b7c43",
            "3e2c6df8f223490d8a9cef92db4fb390",
            "b1c13e47b8984695a3bd847d39b34790",
            "893407932b004e94b28edf25eb184ee7",
            "66eb1d3c51484765ab2ec85bff4a4a31",
            "4b0317f171fd4cfebd2444657cacaed1",
            "682c1bde5c994cbcb42b9fddcbc9c5d9",
            "495750fddf994b9ab4bbbb0230b4a8ac",
            "67909131e32f4d6f95fcfcc8974caaba",
            "57b7c2e704a1418c8a1f3bac94d9d5cc",
            "6144a1341d1348208a6421b2a2fc7f82",
            "a31fb0d1862b49eaa5050ec3c1a87fb6",
            "36e6463b8f624c679ac4d9caa8083eb4",
            "dafd9db34bc7414ab7b612a8b8fa16e5"
          ]
        },
        "outputId": "3f89f9e7-958d-4e28-ce25-1ff232127e73"
      },
      "source": [
        "transform = transforms.Compose([transforms.ToTensor(), #converts PIL images to tensors\n",
        "                                transforms.Normalize(mean=0, std=1)]) # normalize the pixel values from range [0,255] to [0,1]\n",
        "train_dataset = FashionMNIST(train=True, transform = transform, root=os.getcwd(), download=True)\n",
        "test_dataset = FashionMNIST(train=False, transform = transform, root=os.getcwd(), download=True)"
      ],
      "execution_count": null,
      "outputs": [
        {
          "output_type": "stream",
          "text": [
            "Downloading http://fashion-mnist.s3-website.eu-central-1.amazonaws.com/train-images-idx3-ubyte.gz to /content/FashionMNIST/raw/train-images-idx3-ubyte.gz\n"
          ],
          "name": "stdout"
        },
        {
          "output_type": "display_data",
          "data": {
            "application/vnd.jupyter.widget-view+json": {
              "model_id": "2ffb56ed343f49c49c29aa62dc6cd91f",
              "version_minor": 0,
              "version_major": 2
            },
            "text/plain": [
              "HBox(children=(FloatProgress(value=1.0, bar_style='info', max=1.0), HTML(value='')))"
            ]
          },
          "metadata": {
            "tags": []
          }
        },
        {
          "output_type": "stream",
          "text": [
            "Extracting /content/FashionMNIST/raw/train-images-idx3-ubyte.gz to /content/FashionMNIST/raw\n",
            "Downloading http://fashion-mnist.s3-website.eu-central-1.amazonaws.com/train-labels-idx1-ubyte.gz to /content/FashionMNIST/raw/train-labels-idx1-ubyte.gz\n"
          ],
          "name": "stdout"
        },
        {
          "output_type": "display_data",
          "data": {
            "application/vnd.jupyter.widget-view+json": {
              "model_id": "8e2dbd2e24d640038ae564cd2315793d",
              "version_minor": 0,
              "version_major": 2
            },
            "text/plain": [
              "HBox(children=(FloatProgress(value=1.0, bar_style='info', max=1.0), HTML(value='')))"
            ]
          },
          "metadata": {
            "tags": []
          }
        },
        {
          "output_type": "stream",
          "text": [
            "Extracting /content/FashionMNIST/raw/train-labels-idx1-ubyte.gz to /content/FashionMNIST/raw\n",
            "Downloading http://fashion-mnist.s3-website.eu-central-1.amazonaws.com/t10k-images-idx3-ubyte.gz to /content/FashionMNIST/raw/t10k-images-idx3-ubyte.gz\n"
          ],
          "name": "stdout"
        },
        {
          "output_type": "display_data",
          "data": {
            "application/vnd.jupyter.widget-view+json": {
              "model_id": "d6ac2e8692e14659947c55fd0227e4c8",
              "version_minor": 0,
              "version_major": 2
            },
            "text/plain": [
              "HBox(children=(FloatProgress(value=1.0, bar_style='info', max=1.0), HTML(value='')))"
            ]
          },
          "metadata": {
            "tags": []
          }
        },
        {
          "output_type": "stream",
          "text": [
            "Extracting /content/FashionMNIST/raw/t10k-images-idx3-ubyte.gz to /content/FashionMNIST/raw\n",
            "Downloading http://fashion-mnist.s3-website.eu-central-1.amazonaws.com/t10k-labels-idx1-ubyte.gz to /content/FashionMNIST/raw/t10k-labels-idx1-ubyte.gz\n"
          ],
          "name": "stdout"
        },
        {
          "output_type": "display_data",
          "data": {
            "application/vnd.jupyter.widget-view+json": {
              "model_id": "682c1bde5c994cbcb42b9fddcbc9c5d9",
              "version_minor": 0,
              "version_major": 2
            },
            "text/plain": [
              "HBox(children=(FloatProgress(value=1.0, bar_style='info', max=1.0), HTML(value='')))"
            ]
          },
          "metadata": {
            "tags": []
          }
        },
        {
          "output_type": "stream",
          "text": [
            "Extracting /content/FashionMNIST/raw/t10k-labels-idx1-ubyte.gz to /content/FashionMNIST/raw\n",
            "Processing...\n",
            "\n",
            "\n",
            "\n",
            "Done!\n"
          ],
          "name": "stdout"
        }
      ]
    },
    {
      "cell_type": "code",
      "metadata": {
        "id": "TRb9iPibSBmj",
        "colab_type": "code",
        "colab": {
          "base_uri": "https://localhost:8080/",
          "height": 34
        },
        "outputId": "63e10917-312e-43ad-e635-25a1484aabf7"
      },
      "source": [
        "print(len(train_dataset),len(test_dataset))"
      ],
      "execution_count": null,
      "outputs": [
        {
          "output_type": "stream",
          "text": [
            "60000 10000\n"
          ],
          "name": "stdout"
        }
      ]
    },
    {
      "cell_type": "code",
      "metadata": {
        "id": "xz7oit8Kjs1Z",
        "colab_type": "code",
        "colab": {}
      },
      "source": [
        "train_loader = DataLoader(train_dataset,\n",
        "                          batch_size=32,\n",
        "                          shuffle=True,\n",
        "                          num_workers=4) \n",
        "test_loader = DataLoader(test_dataset,\n",
        "                          batch_size=32,\n",
        "                          shuffle=False,\n",
        "                          num_workers=4)"
      ],
      "execution_count": null,
      "outputs": []
    },
    {
      "cell_type": "markdown",
      "metadata": {
        "id": "8uT36qhRABl9",
        "colab_type": "text"
      },
      "source": [
        "**Building Neural Network**"
      ]
    },
    {
      "cell_type": "code",
      "metadata": {
        "id": "IikB7UgJTwDo",
        "colab_type": "code",
        "colab": {
          "base_uri": "https://localhost:8080/",
          "height": 34
        },
        "outputId": "5951593b-e53b-47c8-865b-20805bb88d50"
      },
      "source": [
        "# for using in GPU\n",
        "device = torch.device('cuda'if torch.cuda.is_available() else 'cpu')\n",
        "print(device)"
      ],
      "execution_count": null,
      "outputs": [
        {
          "output_type": "stream",
          "text": [
            "cuda\n"
          ],
          "name": "stdout"
        }
      ]
    },
    {
      "cell_type": "code",
      "metadata": {
        "id": "fWqS-hBdTU_Q",
        "colab_type": "code",
        "colab": {}
      },
      "source": [
        "def evaluate_on_gpu(model, dataloader):\n",
        "  with torch.no_grad():\n",
        "    total, correct = 0, 0\n",
        "\n",
        "    for batch in dataloader:\n",
        "      images, labels = batch\n",
        "      images,labels = images.to(device), labels.to(device)\n",
        "\n",
        "      out_probs = model(images)\n",
        "      out_labels=torch.argmax(out_probs,axis=1)\n",
        "      total += labels.size(0)\n",
        "      correct += torch.sum(labels == out_labels).item()\n",
        "  \n",
        "  return 100 * correct/total\n",
        "def train_on_gpu(model, loss_criterion, optimizer,train_loader,test_loader,epochs=100):\n",
        "  hist = {'loss':[],\n",
        "          'train_acc':[],\n",
        "          'test_acc':[]}\n",
        "  min=99\n",
        "  for epoch_num in tqdm(range(1,epochs+1),desc='Training', total=epochs):\n",
        "    losses = []\n",
        "    for batch in train_loader:\n",
        "      images, labels = batch\n",
        "      images,labels = images.to(device), labels.to(device)\n",
        "      optimizer.zero_grad()\n",
        "      out = model(images)\n",
        "      loss = loss_criterion(out,labels)\n",
        "      losses.append(loss.item())\n",
        "      loss.backward()\n",
        "      optimizer.step()\n",
        "    hist['loss'].append(np.array(losses).mean())\n",
        "    train_acc = evaluate_on_gpu(model,train_loader)\n",
        "    test_acc = evaluate_on_gpu(model,test_loader)\n",
        "    hist['train_acc'].append(train_acc)\n",
        "    hist['test_acc'].append(test_acc)\n",
        "    if min > np.array(losses).mean():\n",
        "      min = np.array(losses).mean()\n",
        "      e=epoch_num\n",
        "      atr = train_acc\n",
        "      ate = test_acc\n",
        "      torch.save(model.state_dict(),'model_weight.pth')  # Saving model by weight\n",
        "\n",
        "   \n",
        "  fig, ax = plt.subplots(nrows=1,ncols=2,figsize=(14,7))\n",
        "  ax[0].plot(range(1,epochs+1),hist['loss'],label='Loss')\n",
        "  ax[0].grid()\n",
        "  ax[0].set_xlabel('Epochs')\n",
        "  ax[0].set_ylabel('Loss Value')\n",
        "  ax[0].set_title('Epochs vs Loss')\n",
        "  ax[1].plot(range(1,epochs+1),hist['train_acc'], 'b-',label='Training accuracy')\n",
        "  ax[1].plot(range(1,epochs+1),hist['test_acc'], 'm-',label='Testing accuracy')\n",
        "  ax[1].grid()\n",
        "  ax[1].set_xlabel('Epochs')\n",
        "  ax[1].set_ylabel('Accuracy')\n",
        "  ax[1].set_title('Epochs vs Accuracy')\n",
        "  plt.show()\n",
        "  #printing all values in hist dict and even the min loss, train accuracy and test accuracy\n",
        "  print('Loss:\\n',hist['loss'])\n",
        "  print('train_acc:\\n',hist['train_acc'])\n",
        "  print('test_acc:\\n',hist['test_acc'])\n",
        "  print('\\n\\nLowest loss value: ',min)\n",
        "  print('\\nTrain_acc: ',atr)\n",
        "  print('\\nTest_acc: ',ate)\n",
        "  return model"
      ],
      "execution_count": null,
      "outputs": []
    },
    {
      "cell_type": "code",
      "metadata": {
        "id": "-YDGuWJKSlzK",
        "colab_type": "code",
        "colab": {
          "base_uri": "https://localhost:8080/",
          "height": 748,
          "referenced_widgets": [
            "de64bca7c5b94feba7af3d04b2aa5fed",
            "5bbdc88b5692421495ff33df7d32ea37",
            "92c09f05642f4dfb81523945aa5ac7be",
            "c42feaef2f154b6ca9b29d91aa879e54",
            "a19006f8ab2541348e551de6d6573930",
            "759340c94d2f41569b4420764b531a40",
            "e8df895afbf54cafaa080984671369b7",
            "f5eae529572a4abf8aafcf83438feaf9"
          ]
        },
        "outputId": "b7169038-1578-4d33-db64-3f2e1c99c989"
      },
      "source": [
        "class NNet(nn.Module):\n",
        "    def __init__(self):\n",
        "        super(NNet, self).__init__()\n",
        "        self.net = nn.Sequential(\n",
        "            # input layer flatten\n",
        "            nn.Flatten(),\n",
        "            # 1st hidden layer\n",
        "            nn.Linear(784, 650),\n",
        "            nn.ReLU(),\n",
        "            # 2nd hidden layer\n",
        "            nn.Linear(650, 420),\n",
        "            nn.ReLU(),\n",
        "            # 3rd hidden layer\n",
        "            nn.Linear(420, 360),\n",
        "            nn.ReLU(),\n",
        "            # 4rd hidden layer\n",
        "            nn.Linear(360, 230),\n",
        "            nn.ReLU(),\n",
        "            # output layer\n",
        "            nn.Linear(230,10),\n",
        "            nn.Softmax(dim=1),\n",
        "        )\n",
        "    \n",
        "    def forward(self, X):\n",
        "        outs = self.net(X)\n",
        "        return outs\n",
        "\n",
        "model=NNet().to(device)\n",
        "loss_criterion=nn.CrossEntropyLoss()\n",
        "optimizer=optim.Adam(model.parameters(),lr=0.0001)\n",
        "model=train_on_gpu(model,loss_criterion,optimizer,train_loader,test_loader)"
      ],
      "execution_count": null,
      "outputs": [
        {
          "output_type": "display_data",
          "data": {
            "application/vnd.jupyter.widget-view+json": {
              "model_id": "de64bca7c5b94feba7af3d04b2aa5fed",
              "version_minor": 0,
              "version_major": 2
            },
            "text/plain": [
              "HBox(children=(FloatProgress(value=0.0, description='Training', style=ProgressStyle(description_width='initial…"
            ]
          },
          "metadata": {
            "tags": []
          }
        },
        {
          "output_type": "stream",
          "text": [
            "\n"
          ],
          "name": "stdout"
        },
        {
          "output_type": "display_data",
          "data": {
            "image/png": "[encoded data removed]",
            "text/plain": [
              "<Figure size 1008x504 with 2 Axes>"
            ]
          },
          "metadata": {
            "tags": [],
            "needs_background": "light"
          }
        },
        {
          "output_type": "stream",
          "text": [
            "Loss:\n",
            " [1.7880255241394043, 1.7205788376490274, 1.6846805325826009, 1.673626338704427, 1.6665645451863607, 1.6629664436976115, 1.6572538319905599, 1.652640493520101, 1.6502565329869587, 1.6469836986541748, 1.6463691217422485, 1.6437913572311402, 1.6427235116322836, 1.6404221915562947, 1.6402916763305664, 1.637972666867574, 1.6370313206354776, 1.6352191289901734, 1.6354356826782226, 1.632778208287557, 1.6321856187184651, 1.6319504332224528, 1.6315546834309895, 1.6306283040364584, 1.630018156369527, 1.6313576532999674, 1.6297344338099162, 1.6289515740712484, 1.6276345881144205, 1.6281973389307658, 1.6269025330861409, 1.6270305669784546, 1.6284488578160603, 1.625580874379476, 1.6249869563420614, 1.625391369565328, 1.6245151072820028, 1.6248167520523071, 1.6235710271835326, 1.6221397676467895, 1.6254994368871054, 1.624640645281474, 1.6243132093429566, 1.622030998357137, 1.6221180873235066, 1.621226140975952, 1.620677074877421, 1.620813914680481, 1.6201090710957846, 1.618589307085673, 1.619366818491618, 1.6202050440470377, 1.6194663621266683, 1.6200268098195394, 1.6187611119588217, 1.6175914899190267, 1.6182217741012572, 1.6189246723175048, 1.6170918279012045, 1.6178403902053833, 1.6172681480407716, 1.5806348691304524, 1.558809546216329, 1.5561676370620727, 1.555054334640503, 1.5563198367436726, 1.5541713640848795, 1.5543346345265707, 1.552264184443156, 1.5544418406804403, 1.552619469134013, 1.5508943773269652, 1.5492813499450684, 1.5496940853118897, 1.551011306889852, 1.5486708599090575, 1.5500526802062988, 1.5468448883692423, 1.548598775736491, 1.5477150603612264, 1.5471393473943074, 1.5513136951446533, 1.5472631776809693, 1.5470579117457073, 1.5464980551401775, 1.546821258544922, 1.545933223025004, 1.5472876220703125, 1.5461729121526082, 1.5465710622151694, 1.5472322935740153, 1.5453023370742798, 1.5470406544367472, 1.5453821999231974, 1.5449818644205728, 1.5438549582163492, 1.544105050086975, 1.5466690057754517, 1.5429480506896973, 1.543857706705729]\n",
            "train_acc:\n",
            " [73.24, 77.34666666666666, 77.835, 79.4, 79.94166666666666, 79.98666666666666, 80.51, 81.66, 81.875, 82.01166666666667, 81.87, 81.71333333333334, 82.23333333333333, 82.32666666666667, 82.685, 82.625, 82.89333333333333, 83.27, 82.005, 82.90333333333334, 81.26, 83.08166666666666, 82.095, 83.39666666666666, 83.10166666666667, 82.895, 81.91333333333333, 82.62833333333333, 83.56666666666666, 83.67, 82.78666666666666, 83.885, 84.13166666666666, 83.20166666666667, 83.67166666666667, 83.72, 84.0, 83.90666666666667, 83.815, 83.96833333333333, 83.76, 84.01333333333334, 83.93833333333333, 83.22, 83.95833333333333, 84.24, 84.43333333333334, 83.54333333333334, 83.80833333333334, 84.33833333333334, 84.16333333333333, 83.82, 84.42666666666666, 84.50666666666666, 84.12833333333333, 84.605, 83.76333333333334, 84.21333333333334, 84.36166666666666, 84.67166666666667, 85.03166666666667, 89.50666666666666, 90.54, 90.16333333333333, 90.49, 91.21833333333333, 89.85333333333334, 91.37666666666667, 91.1, 90.51666666666667, 91.355, 91.745, 91.6, 91.62333333333333, 91.55166666666666, 91.24, 89.66833333333334, 90.68666666666667, 91.65333333333334, 92.00166666666667, 91.32166666666667, 90.86, 92.09333333333333, 91.13333333333334, 91.72166666666666, 91.67333333333333, 90.47833333333334, 91.19166666666666, 91.95666666666666, 91.7, 92.10833333333333, 91.50666666666666, 91.63166666666666, 92.20833333333333, 91.735, 91.78833333333333, 90.32666666666667, 92.35833333333333, 91.94666666666667, 91.27166666666666]\n",
            "test_acc:\n",
            " [72.7, 76.61, 76.69, 78.48, 78.89, 78.79, 79.23, 80.16, 80.61, 80.74, 80.48, 80.13, 80.78, 80.5, 80.7, 80.89, 80.92, 81.23, 80.03, 80.74, 79.57, 81.3, 80.11, 81.1, 81.04, 80.97, 79.79, 80.57, 81.31, 81.29, 80.58, 81.54, 81.62, 80.71, 81.32, 81.32, 81.57, 81.42, 81.66, 81.6, 81.46, 81.59, 81.48, 80.56, 81.6, 81.41, 81.87, 80.76, 81.36, 81.71, 81.46, 81.26, 81.88, 81.35, 81.19, 81.62, 81.09, 81.55, 81.61, 81.72, 81.94, 86.3, 87.62, 87.34, 87.18, 87.83, 86.93, 88.02, 87.94, 87.4, 87.67, 87.74, 87.83, 88.21, 87.95, 87.58, 86.5, 87.05, 88.06, 88.4, 87.94, 87.28, 88.52, 87.48, 87.97, 88.31, 87.05, 87.56, 88.19, 87.58, 88.54, 88.0, 87.84, 88.3, 88.0, 88.09, 86.83, 88.49, 88.16, 87.65]\n",
            "\n",
            "\n",
            "Lowest loss value:  1.5429480506896973\n",
            "\n",
            "Train_acc:  91.94666666666667\n",
            "\n",
            "Test_acc:  88.16\n"
          ],
          "name": "stdout"
        }
      ]
    },
    {
      "cell_type": "markdown",
      "metadata": {
        "id": "RPpwg4wFVlvW",
        "colab_type": "text"
      },
      "source": [
        "**Loading Sved Model**"
      ]
    },
    {
      "cell_type": "code",
      "metadata": {
        "id": "dKIkfDXtSvMw",
        "colab_type": "code",
        "colab": {
          "base_uri": "https://localhost:8080/",
          "height": 272
        },
        "outputId": "2ad45615-fc43-4be3-aba0-0c3622c761af"
      },
      "source": [
        "model.load_state_dict(torch.load('model_weight.pth'))\n",
        "model\n",
        "model.eval() # training mode"
      ],
      "execution_count": null,
      "outputs": [
        {
          "output_type": "execute_result",
          "data": {
            "text/plain": [
              "NNet(\n",
              "  (net): Sequential(\n",
              "    (0): Flatten()\n",
              "    (1): Linear(in_features=784, out_features=650, bias=True)\n",
              "    (2): ReLU()\n",
              "    (3): Linear(in_features=650, out_features=420, bias=True)\n",
              "    (4): ReLU()\n",
              "    (5): Linear(in_features=420, out_features=360, bias=True)\n",
              "    (6): ReLU()\n",
              "    (7): Linear(in_features=360, out_features=230, bias=True)\n",
              "    (8): ReLU()\n",
              "    (9): Linear(in_features=230, out_features=10, bias=True)\n",
              "    (10): Softmax(dim=1)\n",
              "  )\n",
              ")"
            ]
          },
          "metadata": {
            "tags": []
          },
          "execution_count": 17
        }
      ]
    },
    {
      "cell_type": "markdown",
      "metadata": {
        "id": "OlxNtZYcVqzf",
        "colab_type": "text"
      },
      "source": [
        "**Accuracy Score of Train and Test Datasets**"
      ]
    },
    {
      "cell_type": "code",
      "metadata": {
        "id": "LnHyCsY7s5UV",
        "colab_type": "code",
        "colab": {
          "base_uri": "https://localhost:8080/",
          "height": 51
        },
        "outputId": "64958b0e-cc0d-4cfd-e7f5-dec2ee98205d"
      },
      "source": [
        "acc_train = evaluate_on_gpu(model,train_loader)\n",
        "print('Training Accuracy: ',acc_train)\n",
        "acc_test = evaluate_on_gpu(model,test_loader)\n",
        "print('Testing Accuracy',acc_test)"
      ],
      "execution_count": null,
      "outputs": [
        {
          "output_type": "stream",
          "text": [
            "Training Accuracy:  91.94666666666667\n",
            "Testing Accuracy 88.16\n"
          ],
          "name": "stdout"
        }
      ]
    },
    {
      "cell_type": "markdown",
      "metadata": {
        "id": "9VcrS-TwxXGN",
        "colab_type": "text"
      },
      "source": [
        "**Ploting images in test batch**"
      ]
    },
    {
      "cell_type": "code",
      "metadata": {
        "id": "fUGCnqnIVOmk",
        "colab_type": "code",
        "colab": {
          "base_uri": "https://localhost:8080/",
          "height": 290
        },
        "outputId": "58dc3b07-fe54-4aa4-fbf1-926f6f456d0b"
      },
      "source": [
        "def plot_images(batch):\n",
        "  img_grid = make_grid(batch[0],nrow=8) # batch[0] input values\n",
        "  img_np = img_grid.numpy() # as matplot only works on numpy we must convert to numpy\n",
        "  img_np = np.transpose(img_np, (1,2,0)) # from [channels,height, width] to [height,width,channel]\n",
        "  plt.figure(figsize=(8,8)) \n",
        "  plt.imshow(img_np)\n",
        "  plt.title(batch[1])\n",
        "  plt.xticks([])\n",
        "  plt.yticks([])\n",
        "  plt.show()\n",
        "test_iterator = iter(test_loader)\n",
        "test_batch = next(test_iterator)\n",
        "plot_images(test_batch)"
      ],
      "execution_count": null,
      "outputs": [
        {
          "output_type": "display_data",
          "data": {
            "image/png": "[encoded data removed]",
            "text/plain": [
              "<Figure size 576x576 with 1 Axes>"
            ]
          },
          "metadata": {
            "tags": []
          }
        }
      ]
    },
    {
      "cell_type": "markdown",
      "metadata": {
        "id": "Y0cRCGcYxoKj",
        "colab_type": "text"
      },
      "source": [
        "**Prediction by model on test batch**"
      ]
    },
    {
      "cell_type": "code",
      "metadata": {
        "id": "DbUSBOcpR5L3",
        "colab_type": "code",
        "colab": {
          "base_uri": "https://localhost:8080/",
          "height": 34
        },
        "outputId": "0ee0faec-df61-482a-8a1a-e4bfb57cf9f4"
      },
      "source": [
        "model_p = NNet()\n",
        "pred_batch=model_p(test_batch[0])\n",
        "print(pred_batch.size())"
      ],
      "execution_count": null,
      "outputs": [
        {
          "output_type": "stream",
          "text": [
            "torch.Size([32, 10])\n"
          ],
          "name": "stdout"
        }
      ]
    },
    {
      "cell_type": "code",
      "metadata": {
        "id": "ZfYCTOs3R-y_",
        "colab_type": "code",
        "colab": {
          "base_uri": "https://localhost:8080/",
          "height": 51
        },
        "outputId": "941ce3eb-222b-4745-b375-59847f41c578"
      },
      "source": [
        "pred_labels=torch.argmax(pred_batch,axis=1)\n",
        "print(pred_labels)"
      ],
      "execution_count": null,
      "outputs": [
        {
          "output_type": "stream",
          "text": [
            "tensor([1, 5, 5, 5, 1, 5, 1, 1, 1, 1, 5, 1, 1, 5, 5, 5, 1, 5, 1, 5, 5, 5, 5, 1,\n",
            "        5, 1, 5, 5, 1, 5, 5, 1], grad_fn=<NotImplemented>)\n"
          ],
          "name": "stdout"
        }
      ]
    }
  ]
}